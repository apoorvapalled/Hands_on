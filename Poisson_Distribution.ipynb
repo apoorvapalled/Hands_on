{
  "nbformat": 4,
  "nbformat_minor": 0,
  "metadata": {
    "colab": {
      "provenance": [],
      "authorship_tag": "ABX9TyOXgC4UxG9WpZa73INSM4B3",
      "include_colab_link": true
    },
    "kernelspec": {
      "name": "python3",
      "display_name": "Python 3"
    },
    "language_info": {
      "name": "python"
    }
  },
  "cells": [
    {
      "cell_type": "markdown",
      "metadata": {
        "id": "view-in-github",
        "colab_type": "text"
      },
      "source": [
        "<a href=\"https://colab.research.google.com/github/apoorvapalled/Hands_on/blob/main/Poisson_Distribution.ipynb\" target=\"_parent\"><img src=\"https://colab.research.google.com/assets/colab-badge.svg\" alt=\"Open In Colab\"/></a>"
      ]
    },
    {
      "cell_type": "code",
      "execution_count": 2,
      "metadata": {
        "id": "_3dzBqR1idRc"
      },
      "outputs": [],
      "source": [
        "import numpy as np\n",
        "import matplotlib.pyplot as plt\n",
        "import seaborn as sns\n",
        "from scipy.stats import poisson"
      ]
    },
    {
      "cell_type": "code",
      "source": [
        "np.random.poisson(3.6)"
      ],
      "metadata": {
        "colab": {
          "base_uri": "https://localhost:8080/"
        },
        "id": "HoaVOnnCjMPC",
        "outputId": "3f8fe925-73ba-437c-fe5e-ba3d83ab0c3e"
      },
      "execution_count": 6,
      "outputs": [
        {
          "output_type": "execute_result",
          "data": {
            "text/plain": [
              "3"
            ]
          },
          "metadata": {},
          "execution_count": 6
        }
      ]
    },
    {
      "cell_type": "code",
      "source": [
        "np.random.poisson(3.6, 15)"
      ],
      "metadata": {
        "colab": {
          "base_uri": "https://localhost:8080/"
        },
        "id": "JydfLgxmjfON",
        "outputId": "ab5cc68f-914f-4b1f-aa43-1724b0617a86"
      },
      "execution_count": 7,
      "outputs": [
        {
          "output_type": "execute_result",
          "data": {
            "text/plain": [
              "array([5, 3, 5, 3, 2, 3, 6, 3, 4, 6, 5, 5, 5, 4, 1])"
            ]
          },
          "metadata": {},
          "execution_count": 7
        }
      ]
    },
    {
      "cell_type": "code",
      "source": [
        "q_size=np.random.poisson(3.6, 100000)"
      ],
      "metadata": {
        "id": "pEb1GGfc4MVK"
      },
      "execution_count": 5,
      "outputs": []
    },
    {
      "cell_type": "code",
      "source": [
        "sns.countplot(x=q_size)"
      ],
      "metadata": {
        "colab": {
          "base_uri": "https://localhost:8080/",
          "height": 447
        },
        "id": "tYrDxoRz4ZSq",
        "outputId": "34f6753e-3148-4230-965f-219619f48f7c"
      },
      "execution_count": 6,
      "outputs": [
        {
          "output_type": "execute_result",
          "data": {
            "text/plain": [
              "<Axes: ylabel='count'>"
            ]
          },
          "metadata": {},
          "execution_count": 6
        },
        {
          "output_type": "display_data",
          "data": {
            "text/plain": [
              "<Figure size 640x480 with 1 Axes>"
            ],
            "image/png": "[encoded data removed]"
          },
          "metadata": {}
        }
      ]
    },
    {
      "cell_type": "code",
      "source": [
        "poisson.pmf(7, 3.6)"
      ],
      "metadata": {
        "colab": {
          "base_uri": "https://localhost:8080/"
        },
        "id": "Fbjwh0IR5o2d",
        "outputId": "4b15bddd-7377-4757-9792-c5dfbf9dda6a"
      },
      "execution_count": 8,
      "outputs": [
        {
          "output_type": "execute_result",
          "data": {
            "text/plain": [
              "0.04248414026930935"
            ]
          },
          "metadata": {},
          "execution_count": 8
        }
      ]
    },
    {
      "cell_type": "code",
      "source": [
        "poisson.cdf(7, 3.6)"
      ],
      "metadata": {
        "colab": {
          "base_uri": "https://localhost:8080/"
        },
        "id": "QWSt_yxp6oh3",
        "outputId": "6bf0f198-2b47-42e8-bc28-6b78d39bc7ad"
      },
      "execution_count": 9,
      "outputs": [
        {
          "output_type": "execute_result",
          "data": {
            "text/plain": [
              "0.9692107246403425"
            ]
          },
          "metadata": {},
          "execution_count": 9
        }
      ]
    },
    {
      "cell_type": "markdown",
      "source": [
        "Normal distribution\n"
      ],
      "metadata": {
        "id": "ZF_4KbEvxHrc"
      }
    },
    {
      "cell_type": "code",
      "source": [
        "np.random.normal(100,5)"
      ],
      "metadata": {
        "colab": {
          "base_uri": "https://localhost:8080/"
        },
        "id": "Ul94bKZ8xKKQ",
        "outputId": "45b89e4e-2f85-4f07-e5ed-98df75c2ca21"
      },
      "execution_count": 3,
      "outputs": [
        {
          "output_type": "execute_result",
          "data": {
            "text/plain": [
              "100.01882009845092"
            ]
          },
          "metadata": {},
          "execution_count": 3
        }
      ]
    },
    {
      "cell_type": "code",
      "source": [
        "np.random.normal(100,5,50)"
      ],
      "metadata": {
        "colab": {
          "base_uri": "https://localhost:8080/"
        },
        "id": "zfks6qDExbYX",
        "outputId": "a90f71e3-ba3d-4457-d7d0-bdfc0946b9ac"
      },
      "execution_count": 4,
      "outputs": [
        {
          "output_type": "execute_result",
          "data": {
            "text/plain": [
              "array([ 93.71344447,  92.17370637,  93.25925105,  94.61877143,\n",
              "        95.33987132,  98.47719851, 108.59510015, 104.18110781,\n",
              "       103.40635636, 107.30571441,  90.89559892, 106.81807453,\n",
              "       106.73328686,  99.99087703, 106.7311521 ,  97.61284895,\n",
              "        94.58829764, 104.43568971, 101.49130993, 101.70532814,\n",
              "       101.21920999, 103.96223284,  98.66721628,  99.97660818,\n",
              "        95.24847384,  94.3484728 ,  86.99168061, 108.79660488,\n",
              "       100.78507023, 106.43351362, 100.40832236, 101.24314162,\n",
              "       102.17393881, 106.29430447, 101.49098097,  96.91441085,\n",
              "        93.96756469, 104.2905347 , 103.56814153, 102.19151764,\n",
              "       102.27388119,  90.50700373, 102.89933583,  98.94342077,\n",
              "        97.34660798, 103.56075592, 104.50818032,  90.03143396,\n",
              "        96.78015077,  95.91891872])"
            ]
          },
          "metadata": {},
          "execution_count": 4
        }
      ]
    },
    {
      "cell_type": "markdown",
      "source": [
        "To get round up numbers\n"
      ],
      "metadata": {
        "id": "6NKTG0urx5yC"
      }
    },
    {
      "cell_type": "code",
      "source": [
        "np.round(np.random.normal(100,5,50))"
      ],
      "metadata": {
        "colab": {
          "base_uri": "https://localhost:8080/"
        },
        "id": "imZ40oLOxhW9",
        "outputId": "3413d143-7db3-4a4b-c355-329bbaca71dd"
      },
      "execution_count": 5,
      "outputs": [
        {
          "output_type": "execute_result",
          "data": {
            "text/plain": [
              "array([ 99.,  93., 104., 103., 106.,  96.,  95.,  93., 100., 112.,  98.,\n",
              "        91., 100.,  98.,  99., 103.,  98.,  97., 103., 104.,  90.,  98.,\n",
              "        96.,  99.,  97., 105., 107.,  97., 100.,  94., 100., 108.,  98.,\n",
              "       112., 100., 101.,  94., 111., 103., 104.,  94., 103., 110.,  94.,\n",
              "        98., 106., 108.,  95.,  97., 101.])"
            ]
          },
          "metadata": {},
          "execution_count": 5
        }
      ]
    },
    {
      "cell_type": "markdown",
      "source": [
        "to get random numbers upto 2 decimal points"
      ],
      "metadata": {
        "id": "rcpKN05Hx-ix"
      }
    },
    {
      "cell_type": "code",
      "source": [
        "np.round(np.random.normal(100,5,50),2)"
      ],
      "metadata": {
        "colab": {
          "base_uri": "https://localhost:8080/"
        },
        "id": "TXV11eRGx2vY",
        "outputId": "54cae302-64a3-4085-c0c2-adece436f93f"
      },
      "execution_count": 8,
      "outputs": [
        {
          "output_type": "execute_result",
          "data": {
            "text/plain": [
              "array([104.22,  96.08, 109.93,  96.96, 100.35, 103.4 , 109.16, 102.43,\n",
              "       104.76, 102.52, 103.23, 103.58, 107.32, 106.81, 102.05,  90.59,\n",
              "       105.26, 104.28, 101.67, 103.75,  98.74, 102.81, 106.54,  98.26,\n",
              "       102.91, 102.98,  98.1 ,  96.52, 100.76,  94.8 , 101.56,  92.97,\n",
              "       102.14, 113.91,  98.1 , 105.33, 104.62, 102.26,  97.99, 103.5 ,\n",
              "        93.34,  98.12,  99.29,  95.05,  97.39, 108.07, 101.66, 102.85,\n",
              "        98.74, 102.93])"
            ]
          },
          "metadata": {},
          "execution_count": 8
        }
      ]
    },
    {
      "cell_type": "markdown",
      "source": [
        "for continous data we use histogarm"
      ],
      "metadata": {
        "id": "fV9kLOh6yW0u"
      }
    },
    {
      "cell_type": "code",
      "source": [
        "a=np.round(np.random.normal(100,5,50),2)"
      ],
      "metadata": {
        "id": "x26ePoxcyblU"
      },
      "execution_count": 9,
      "outputs": []
    },
    {
      "cell_type": "code",
      "source": [
        "sns.histplot(x=a)\n",
        "plt.show()"
      ],
      "metadata": {
        "colab": {
          "base_uri": "https://localhost:8080/",
          "height": 430
        },
        "id": "cXD_xfQBypAZ",
        "outputId": "f64f7c09-7572-4373-eed0-e6490d2def4b"
      },
      "execution_count": 10,
      "outputs": [
        {
          "output_type": "display_data",
          "data": {
            "text/plain": [
              "<Figure size 640x480 with 1 Axes>"
            ],
            "image/png": "[encoded data removed]"
          },
          "metadata": {}
        }
      ]
    },
    {
      "cell_type": "code",
      "source": [
        "b=np.round(np.random.normal(100,5,50000))"
      ],
      "metadata": {
        "id": "uFLUABlPy0Of"
      },
      "execution_count": 15,
      "outputs": []
    },
    {
      "cell_type": "code",
      "source": [
        "sns.set_theme(style=\"whitegrid\")\n",
        "sns.histplot(x=b, kde=True)\n",
        "plt.show()"
      ],
      "metadata": {
        "colab": {
          "base_uri": "https://localhost:8080/",
          "height": 434
        },
        "id": "ZojalSvty3mW",
        "outputId": "ec9de2e4-eea1-4148-e3fe-5940ef4949c4"
      },
      "execution_count": 18,
      "outputs": [
        {
          "output_type": "display_data",
          "data": {
            "text/plain": [
              "<Figure size 640x480 with 1 Axes>"
            ],
            "image/png": "[encoded data removed]"
          },
          "metadata": {}
        }
      ]
    },
    {
      "cell_type": "code",
      "source": [
        "n= np.random.normal(100,2,1000000)"
      ],
      "metadata": {
        "id": "ZKBGbtWD_VAX"
      },
      "execution_count": 41,
      "outputs": []
    },
    {
      "cell_type": "code",
      "source": [
        "sns.set_theme(style=\"whitegrid\")\n",
        "sns.histplot(x=n, kde=True)\n",
        "plt.show()"
      ],
      "metadata": {
        "colab": {
          "base_uri": "https://localhost:8080/",
          "height": 434
        },
        "id": "L8u25--s_bBt",
        "outputId": "0379731a-deeb-4f00-d1d7-66f4c42b1528"
      },
      "execution_count": 42,
      "outputs": [
        {
          "output_type": "display_data",
          "data": {
            "text/plain": [
              "<Figure size 640x480 with 1 Axes>"
            ],
            "image/png": "[encoded data removed]"
          },
          "metadata": {}
        }
      ]
    },
    {
      "cell_type": "markdown",
      "source": [
        "for 1 standard deviation"
      ],
      "metadata": {
        "id": "TtEmJg4iABYW"
      }
    },
    {
      "cell_type": "code",
      "source": [
        "sum((n>98)&(n<102))"
      ],
      "metadata": {
        "colab": {
          "base_uri": "https://localhost:8080/"
        },
        "id": "t-hJNnR4_wdE",
        "outputId": "7d73bb2c-0db1-4285-a830-9032e3d64546"
      },
      "execution_count": 43,
      "outputs": [
        {
          "output_type": "execute_result",
          "data": {
            "text/plain": [
              "681990"
            ]
          },
          "metadata": {},
          "execution_count": 43
        }
      ]
    },
    {
      "cell_type": "markdown",
      "source": [
        "for 2 standad deviation"
      ],
      "metadata": {
        "id": "3AoKVOiHAFPG"
      }
    },
    {
      "cell_type": "code",
      "source": [
        "sum((n>96)&(n<104))"
      ],
      "metadata": {
        "colab": {
          "base_uri": "https://localhost:8080/"
        },
        "id": "L5-tP5Bl_5dQ",
        "outputId": "445ef722-e9b6-4799-ce50-13377b4162bc"
      },
      "execution_count": 44,
      "outputs": [
        {
          "output_type": "execute_result",
          "data": {
            "text/plain": [
              "954515"
            ]
          },
          "metadata": {},
          "execution_count": 44
        }
      ]
    },
    {
      "cell_type": "markdown",
      "source": [
        "for 3 sd"
      ],
      "metadata": {
        "id": "jPbKSXBfAIiM"
      }
    },
    {
      "cell_type": "code",
      "source": [
        "sum((n>94)&(n<106))"
      ],
      "metadata": {
        "colab": {
          "base_uri": "https://localhost:8080/"
        },
        "id": "89i0YPYlAKQa",
        "outputId": "545be6b9-9a4e-4287-e517-86033f95052d"
      },
      "execution_count": 45,
      "outputs": [
        {
          "output_type": "execute_result",
          "data": {
            "text/plain": [
              "997275"
            ]
          },
          "metadata": {},
          "execution_count": 45
        }
      ]
    },
    {
      "cell_type": "markdown",
      "source": [
        "perfume bottles are filled with an average volume of 150cc and a standrad deviation of 2cc. What percent of bottles will have a volume of more than 154cc"
      ],
      "metadata": {
        "id": "w7519deqAXd8"
      }
    },
    {
      "cell_type": "code",
      "source": [
        "from scipy.stats import norm"
      ],
      "metadata": {
        "id": "3_4mlP4YA18B"
      },
      "execution_count": 46,
      "outputs": []
    },
    {
      "cell_type": "markdown",
      "source": [
        "Survival function"
      ],
      "metadata": {
        "id": "_Cu7NGEVBJUQ"
      }
    },
    {
      "cell_type": "code",
      "source": [
        "norm.sf(154,150,2)"
      ],
      "metadata": {
        "colab": {
          "base_uri": "https://localhost:8080/"
        },
        "id": "uaH5wzDkBLW4",
        "outputId": "9bc13f2f-8881-47e3-f1b7-3a37458d3221"
      },
      "execution_count": 47,
      "outputs": [
        {
          "output_type": "execute_result",
          "data": {
            "text/plain": [
              "0.022750131948179195"
            ]
          },
          "metadata": {},
          "execution_count": 47
        }
      ]
    },
    {
      "cell_type": "code",
      "source": [
        "norm.sf(153,150,2)"
      ],
      "metadata": {
        "colab": {
          "base_uri": "https://localhost:8080/"
        },
        "id": "7UVjCJ6mBURW",
        "outputId": "eec18b5c-bb4f-4498-f8b7-0748a19f9bdd"
      },
      "execution_count": 49,
      "outputs": [
        {
          "output_type": "execute_result",
          "data": {
            "text/plain": [
              "0.06680720126885807"
            ]
          },
          "metadata": {},
          "execution_count": 49
        }
      ]
    },
    {
      "cell_type": "code",
      "source": [
        "norm.sf(148,150,2)-norm.sf(152,150,2)"
      ],
      "metadata": {
        "colab": {
          "base_uri": "https://localhost:8080/"
        },
        "id": "J5-tSBlxBydu",
        "outputId": "b6ac6427-8a67-4046-c7c9-dc20d3c49966"
      },
      "execution_count": 52,
      "outputs": [
        {
          "output_type": "execute_result",
          "data": {
            "text/plain": [
              "0.6826894921370859"
            ]
          },
          "metadata": {},
          "execution_count": 52
        }
      ]
    },
    {
      "cell_type": "code",
      "source": [],
      "metadata": {
        "id": "P3vtSaThByhI"
      },
      "execution_count": null,
      "outputs": []
    }
  ]
}